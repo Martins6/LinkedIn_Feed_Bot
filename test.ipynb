{
 "metadata": {
  "language_info": {
   "codemirror_mode": {
    "name": "ipython",
    "version": 3
   },
   "file_extension": ".py",
   "mimetype": "text/x-python",
   "name": "python",
   "nbconvert_exporter": "python",
   "pygments_lexer": "ipython3",
   "version": "3.8.6-final"
  },
  "orig_nbformat": 2,
  "kernelspec": {
   "name": "Python 3.8.6 64-bit ('linkedin_bot_feed': venv)",
   "display_name": "Python 3.8.6 64-bit ('linkedin_bot_feed': venv)",
   "metadata": {
    "interpreter": {
     "hash": "fc68a8a506e370f3fe13e49c0b7360f46be6c51ad4a462c428cab530206e085f"
    }
   }
  }
 },
 "nbformat": 4,
 "nbformat_minor": 2,
 "cells": [
  {
   "cell_type": "code",
   "execution_count": 1,
   "metadata": {},
   "outputs": [],
   "source": [
    "import LinkedIn"
   ]
  },
  {
   "cell_type": "code",
   "execution_count": 30,
   "metadata": {
    "tags": []
   },
   "outputs": [
    {
     "output_type": "stream",
     "name": "stdout",
     "text": [
      "Feed_Boxes: 65\nLike_Bars: 11\nPosts: 12\nNames: 13\nTitles: 13\n"
     ]
    }
   ],
   "source": [
    "feed_boxes = LinkedIn.bot.driver.find_elements_by_css_selector('.relative.ember-view')\n",
    "like_bars =  LinkedIn.bot.driver.find_elements_by_css_selector('.feed-shared-social-action-bar--has-social-counts')\n",
    "posts =  LinkedIn.bot.driver.find_elements_by_css_selector('div.feed-shared-update-v2__commentary')\n",
    "names =  LinkedIn.bot.driver.find_elements_by_css_selector('span.feed-shared-actor__title')\n",
    "titles =  LinkedIn.bot.driver.find_elements_by_css_selector('span.feed-shared-actor__description')\n",
    "print(f\"\"\"Feed_Boxes: {len(feed_boxes)}\n",
    "Like_Bars: {len(like_bars)}\n",
    "Posts: {len(posts)}\n",
    "Names: {len(names)}\n",
    "Titles: {len(titles)}\"\"\")"
   ]
  },
  {
   "cell_type": "code",
   "execution_count": null,
   "metadata": {},
   "outputs": [],
   "source": [
    "    print(f\"\"\"Posts: {len(posts)}\n",
    "    Names: {len(names)}\n",
    "    Titles: {len(titles)}\"\"\")"
   ]
  },
  {
   "cell_type": "code",
   "execution_count": 32,
   "metadata": {},
   "outputs": [
    {
     "output_type": "stream",
     "name": "stdout",
     "text": [
      "True\n",
      "True\n",
      "False\n",
      "False\n",
      "True\n",
      "True\n",
      "False\n",
      "False\n",
      "False\n",
      "True\n",
      "True\n",
      "False\n",
      "False\n",
      "False\n",
      "False\n",
      "False\n",
      "False\n",
      "False\n",
      "True\n",
      "True\n",
      "False\n",
      "False\n",
      "True\n",
      "True\n",
      "False\n",
      "False\n",
      "True\n",
      "True\n",
      "False\n",
      "False\n",
      "True\n",
      "True\n",
      "False\n",
      "False\n",
      "True\n",
      "True\n",
      "False\n",
      "False\n",
      "False\n",
      "False\n",
      "False\n",
      "False\n",
      "False\n",
      "False\n",
      "True\n",
      "True\n",
      "False\n",
      "False\n",
      "False\n",
      "False\n",
      "False\n",
      "False\n",
      "False\n",
      "False\n",
      "False\n",
      "False\n",
      "False\n",
      "False\n",
      "False\n",
      "False\n",
      "False\n",
      "False\n",
      "False\n",
      "False\n",
      "False\n"
     ]
    }
   ],
   "source": [
    "for i in feed_boxes:\n",
    "    like_bars =  i.find_elements_by_css_selector('.feed-shared-social-action-bar--has-social-counts')\n",
    "    posts =  i.find_elements_by_css_selector('div.feed-shared-update-v2__commentary')\n",
    "    names =  i.find_elements_by_css_selector('span.feed-shared-actor__title')\n",
    "    titles =  i.find_elements_by_css_selector('span.feed-shared-actor__description')\n",
    "    if(len(posts) == len(names) == len(titles) == 1):\n",
    "        aux = True\n",
    "    else:\n",
    "        aux = False\n",
    "\n",
    "    print(aux)\n"
   ]
  }
 ]
}